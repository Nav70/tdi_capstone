{
 "cells": [
  {
   "cell_type": "markdown",
   "id": "373c1ea8",
   "metadata": {},
   "source": [
    "# Baltimore City Minority Report"
   ]
  },
  {
   "cell_type": "code",
   "execution_count": 1,
   "id": "96659e2c",
   "metadata": {},
   "outputs": [],
   "source": [
    "import pandas as pd\n",
    "import numpy as np\n",
    "\n",
    "%matplotlib inline\n",
    "import matplotlib.pyplot as plt\n",
    "\n",
    "import seaborn as sns\n",
    "\n",
    "sns.set_theme()"
   ]
  },
  {
   "cell_type": "code",
   "execution_count": 2,
   "id": "0ad6a60f",
   "metadata": {},
   "outputs": [
    {
     "name": "stdout",
     "output_type": "stream",
     "text": [
      "C:\\Users\\localadmin\\OneDrive - Towson University\\Documents\\data_science\\capstone-project\n"
     ]
    }
   ],
   "source": [
    "%cd \"C:\\Users\\localadmin\\OneDrive - Towson University\\Documents\\data_science\\capstone-project\"\n"
   ]
  },
  {
   "cell_type": "code",
   "execution_count": 3,
   "id": "8a6b9e3d",
   "metadata": {},
   "outputs": [],
   "source": [
    "b = pd.read_csv(\"Part_1_Crime_data.csv\")\n",
    "c = pd.read_csv(\"CRIME_CODES.csv\")"
   ]
  },
  {
   "cell_type": "code",
   "execution_count": 4,
   "id": "13f92058",
   "metadata": {},
   "outputs": [
    {
     "name": "stderr",
     "output_type": "stream",
     "text": [
      "C:\\ProgramData\\Anaconda3\\lib\\site-packages\\pandas\\core\\arrays\\datetimes.py:1143: UserWarning: Converting to PeriodArray/Index representation will drop timezone information.\n",
      "  warnings.warn(\n"
     ]
    }
   ],
   "source": [
    "import datetime as dt\n",
    "\n",
    "b['CrimeDateTime'] = pd.to_datetime(b['CrimeDateTime'])\n",
    "b['Year'] = pd.to_datetime(b['CrimeDateTime']).dt.to_period('Y')\n"
   ]
  },
  {
   "cell_type": "code",
   "execution_count": 5,
   "id": "f1f977ce",
   "metadata": {},
   "outputs": [],
   "source": [
    "df = b.merge(c, how=\"left\", left_on=\"CrimeCode\", right_on=\"CODE\")"
   ]
  },
  {
   "cell_type": "code",
   "execution_count": 6,
   "id": "f0f2fae8",
   "metadata": {},
   "outputs": [],
   "source": [
    "df.query(\"VIO_PROP_CFS == 'VIOLENT'\", inplace=True)"
   ]
  },
  {
   "cell_type": "code",
   "execution_count": 7,
   "id": "db257d3b",
   "metadata": {},
   "outputs": [],
   "source": [
    "df['CrimeDateTime'] = pd.to_datetime(df['CrimeDateTime'])"
   ]
  },
  {
   "cell_type": "code",
   "execution_count": 8,
   "id": "b485f928",
   "metadata": {},
   "outputs": [],
   "source": [
    "df['week_num'] = df['CrimeDateTime'].dt.isocalendar().week\n",
    "df['Year'] = df['CrimeDateTime'].dt.isocalendar().year"
   ]
  },
  {
   "cell_type": "code",
   "execution_count": 9,
   "id": "0c099fde",
   "metadata": {},
   "outputs": [],
   "source": [
    "df_by_nh_gr = df.groupby('Neighborhood')\n",
    "df_by_nh = df_by_nh_gr[['Total_Incidents']].count()"
   ]
  },
  {
   "cell_type": "code",
   "execution_count": 10,
   "id": "46de1ac5",
   "metadata": {},
   "outputs": [],
   "source": [
    "df_top20 = df_by_nh.sort_values(by='Total_Incidents', ascending=False)[:20]\n",
    "df_top20_list = list(df_top20.index)"
   ]
  },
  {
   "cell_type": "code",
   "execution_count": 11,
   "id": "2288820e",
   "metadata": {},
   "outputs": [],
   "source": [
    "from scipy import fftpack\n"
   ]
  },
  {
   "cell_type": "code",
   "execution_count": 12,
   "id": "a7bb33a6",
   "metadata": {},
   "outputs": [
    {
     "name": "stderr",
     "output_type": "stream",
     "text": [
      "C:\\ProgramData\\Anaconda3\\lib\\site-packages\\pandas\\core\\indexing.py:1773: SettingWithCopyWarning: \n",
      "A value is trying to be set on a copy of a slice from a DataFrame.\n",
      "Try using .loc[row_indexer,col_indexer] = value instead\n",
      "\n",
      "See the caveats in the documentation: https://pandas.pydata.org/pandas-docs/stable/user_guide/indexing.html#returning-a-view-versus-a-copy\n",
      "  self._setitem_single_column(ilocs[0], value, pi)\n"
     ]
    }
   ],
   "source": [
    "import datetime as dt\n",
    "df20 = df[df['Neighborhood'].isin(df_top20_list)]\n",
    "\n",
    "df20.loc[:, 'CrimeDateTime'] = df20['CrimeDateTime'].dt.floor('D')\n",
    "df20.set_index(\"CrimeDateTime\", inplace = True)\n"
   ]
  },
  {
   "cell_type": "code",
   "execution_count": 13,
   "id": "e225db57",
   "metadata": {},
   "outputs": [],
   "source": [
    "df20_by_nh_gr = df20.groupby('Neighborhood')"
   ]
  },
  {
   "cell_type": "code",
   "execution_count": 14,
   "id": "805736d3",
   "metadata": {},
   "outputs": [],
   "source": [
    "# dt is df10  DOWNTOWN neighborhood\n",
    "# dt index is reset\n",
    "\n",
    "# @Todo: ...\n",
    "\n",
    "# dx is dt (DOWNTOWN) grouped-by CrimeDateTime, and counted\n",
    "\n",
    "dt = df20[df20['Neighborhood'] == 'DOWNTOWN']\n",
    "\n",
    "dt.reset_index(inplace=True)\n",
    "\n",
    "df20.head()\n",
    "dt.head()\n",
    "\n",
    "dx = dt.groupby([\"CrimeDateTime\"])[\"X\"].size().reset_index()\n"
   ]
  },
  {
   "cell_type": "code",
   "execution_count": 15,
   "id": "fdb77cf1",
   "metadata": {},
   "outputs": [],
   "source": [
    "dx.set_index(\"CrimeDateTime\", inplace=True)"
   ]
  },
  {
   "cell_type": "code",
   "execution_count": 16,
   "id": "12346edd",
   "metadata": {},
   "outputs": [],
   "source": [
    "from scipy import signal\n",
    "f, pg = signal.periodogram(dx[\"X\"])"
   ]
  },
  {
   "cell_type": "code",
   "execution_count": 17,
   "id": "8a756725",
   "metadata": {},
   "outputs": [
    {
     "data": {
      "text/plain": [
       "array([0.00028877, 0.00057753, 0.0008663 , 0.00115507, 0.00144383,\n",
       "       0.0017326 , 0.00202137, 0.00231014, 0.0025989 , 0.00288767,\n",
       "       0.00317644, 0.0034652 , 0.00375397, 0.00404274, 0.0043315 ,\n",
       "       0.00462027, 0.00490904, 0.00519781, 0.00548657, 0.00577534])"
      ]
     },
     "execution_count": 17,
     "metadata": {},
     "output_type": "execute_result"
    }
   ],
   "source": [
    "f[1:21]"
   ]
  },
  {
   "cell_type": "code",
   "execution_count": 18,
   "id": "3d16efd0",
   "metadata": {},
   "outputs": [
    {
     "data": {
      "text/plain": [
       "array([66.26798908, 29.28836473, 60.51064015, 59.45208483, 12.02360145,\n",
       "        8.12848556, 12.65005125, 33.42987692,  8.38732115,  3.68242021,\n",
       "       98.72970618,  9.46677136, 16.94729433,  2.78767231,  7.21547482,\n",
       "       10.19164899,  4.15035187,  5.85390514,  3.66718184, 10.01225422])"
      ]
     },
     "execution_count": 18,
     "metadata": {},
     "output_type": "execute_result"
    }
   ],
   "source": [
    "pg[1:21]"
   ]
  },
  {
   "cell_type": "code",
   "execution_count": 19,
   "id": "4bc44b06",
   "metadata": {},
   "outputs": [
    {
     "data": {
      "text/plain": [
       "[<matplotlib.lines.Line2D at 0x289b0a27a30>]"
      ]
     },
     "execution_count": 19,
     "metadata": {},
     "output_type": "execute_result"
    },
    {
     "data": {
      "image/png": "[encoded data removed]",
      "text/plain": [
       "<Figure size 432x288 with 1 Axes>"
      ]
     },
     "metadata": {},
     "output_type": "display_data"
    }
   ],
   "source": [
    "plt.plot(f, pg)"
   ]
  },
  {
   "cell_type": "code",
   "execution_count": 20,
   "id": "72eb7918",
   "metadata": {},
   "outputs": [
    {
     "data": {
      "text/plain": [
       "array([3.14818182e+02, 3.46300000e+03, 1.15433333e+03, 8.65750000e+02,\n",
       "       7.69555556e+01, 7.87045455e+01, 6.07543860e+00, 6.02260870e+00,\n",
       "       1.50565217e+02, 1.15433333e+02, 1.28259259e+01, 3.90857788e+00,\n",
       "       1.80364583e+01, 1.10638978e+01, 2.09497883e+00, 4.32875000e+02,\n",
       "       3.36540330e+00, 5.78130217e+00, 2.17798742e+00, 1.50565217e+01])"
      ]
     },
     "execution_count": 20,
     "metadata": {},
     "output_type": "execute_result"
    }
   ],
   "source": [
    "top20_periods = {}\n",
    "top20_freq_indices = np.argsort(pg)[::-1][:20]\n",
    "f20 = f[top20_freq_indices]\n",
    "d20 = pg[top20_freq_indices]\n",
    "p20 = 1/np.array(f20)\n",
    "p20"
   ]
  },
  {
   "cell_type": "code",
   "execution_count": 21,
   "id": "d71aeec6",
   "metadata": {},
   "outputs": [
    {
     "data": {
      "text/html": [
       "<div>\n",
       "<style scoped>\n",
       "    .dataframe tbody tr th:only-of-type {\n",
       "        vertical-align: middle;\n",
       "    }\n",
       "\n",
       "    .dataframe tbody tr th {\n",
       "        vertical-align: top;\n",
       "    }\n",
       "\n",
       "    .dataframe thead th {\n",
       "        text-align: right;\n",
       "    }\n",
       "</style>\n",
       "<table border=\"1\" class=\"dataframe\">\n",
       "  <thead>\n",
       "    <tr style=\"text-align: right;\">\n",
       "      <th></th>\n",
       "      <th>X</th>\n",
       "    </tr>\n",
       "    <tr>\n",
       "      <th>CrimeDateTime</th>\n",
       "      <th></th>\n",
       "    </tr>\n",
       "  </thead>\n",
       "  <tbody>\n",
       "    <tr>\n",
       "      <th>1980-07-01 00:00:00+00:00</th>\n",
       "      <td>1</td>\n",
       "    </tr>\n",
       "    <tr>\n",
       "      <th>2010-10-23 00:00:00+00:00</th>\n",
       "      <td>1</td>\n",
       "    </tr>\n",
       "    <tr>\n",
       "      <th>2011-01-01 00:00:00+00:00</th>\n",
       "      <td>6</td>\n",
       "    </tr>\n",
       "    <tr>\n",
       "      <th>2011-01-02 00:00:00+00:00</th>\n",
       "      <td>2</td>\n",
       "    </tr>\n",
       "    <tr>\n",
       "      <th>2011-01-04 00:00:00+00:00</th>\n",
       "      <td>1</td>\n",
       "    </tr>\n",
       "  </tbody>\n",
       "</table>\n",
       "</div>"
      ],
      "text/plain": [
       "                           X\n",
       "CrimeDateTime               \n",
       "1980-07-01 00:00:00+00:00  1\n",
       "2010-10-23 00:00:00+00:00  1\n",
       "2011-01-01 00:00:00+00:00  6\n",
       "2011-01-02 00:00:00+00:00  2\n",
       "2011-01-04 00:00:00+00:00  1"
      ]
     },
     "execution_count": 21,
     "metadata": {},
     "output_type": "execute_result"
    }
   ],
   "source": [
    "# Daily/Weekly seasonality is visible from the above decomposition of periods\n",
    "dx.head()"
   ]
  },
  {
   "cell_type": "code",
   "execution_count": 22,
   "id": "1f2acb6d",
   "metadata": {},
   "outputs": [],
   "source": [
    "# dx.fillna(0)"
   ]
  },
  {
   "cell_type": "code",
   "execution_count": 23,
   "id": "fd6048e9",
   "metadata": {},
   "outputs": [],
   "source": [
    "import pandas as pd\n",
    "from prophet import Prophet\n",
    "from prophet.plot import plot_plotly"
   ]
  },
  {
   "cell_type": "code",
   "execution_count": 24,
   "id": "a7392492",
   "metadata": {},
   "outputs": [],
   "source": [
    "df_top20_list.sort()\n",
    "df_top20_set = set(df_top20_list)"
   ]
  },
  {
   "cell_type": "code",
   "execution_count": 25,
   "id": "c60c4dc1",
   "metadata": {},
   "outputs": [],
   "source": [
    "#import required packages\n",
    "import os, json\n",
    "import geopandas as gpd\n",
    "from ipywidgets import widgets, HTML\n",
    "from ipyleaflet import Map, GeoData, basemaps, LayersControl, ScaleControl, FullScreenControl, WidgetControl\n",
    "from ipywidgets import widgets, IntSlider, jslink"
   ]
  },
  {
   "cell_type": "code",
   "execution_count": 26,
   "id": "5233fb09",
   "metadata": {},
   "outputs": [],
   "source": [
    "# @MAP\n",
    "from IPython.display import display, clear_output\n",
    "import ipyleaflet\n",
    "from ipyleaflet import basemaps, Map, Marker, GeoJSON\n",
    "import ipywidgets\n",
    "\n",
    "import geocoder\n",
    "\n",
    "import ujson as json"
   ]
  },
  {
   "cell_type": "code",
   "execution_count": 27,
   "id": "a39df1da",
   "metadata": {},
   "outputs": [],
   "source": [
    "balt = geocoder.osm('Baltimore City, Maryland')"
   ]
  },
  {
   "cell_type": "code",
   "execution_count": 28,
   "id": "0652ab24",
   "metadata": {},
   "outputs": [],
   "source": [
    "latlng = balt.latlng"
   ]
  },
  {
   "cell_type": "code",
   "execution_count": 29,
   "id": "f0e20614",
   "metadata": {},
   "outputs": [],
   "source": [
    "balt_map = Map(center=balt.latlng, zoom=11)"
   ]
  },
  {
   "cell_type": "code",
   "execution_count": 30,
   "id": "242a221a",
   "metadata": {},
   "outputs": [],
   "source": [
    "#nh = pd.read_csv('Neighborhoods.csv')"
   ]
  },
  {
   "cell_type": "code",
   "execution_count": 31,
   "id": "3b541ca3",
   "metadata": {},
   "outputs": [],
   "source": [
    "with open('Neighborhoods.geojson') as f:\n",
    "    geo_json_balt = json.load(f)"
   ]
  },
  {
   "cell_type": "code",
   "execution_count": 32,
   "id": "365ae230",
   "metadata": {},
   "outputs": [],
   "source": [
    "\n",
    "def show_result_h(feature, **kwargs):\n",
    "    clicked_nh = feature['properties']['name'].upper()\n",
    "    if (clicked_nh in df_top20_set):\n",
    "        nh_dropdown.value = clicked_nh\n",
    "\n",
    "geo_json_balt_layer = GeoJSON(data=geo_json_balt,\n",
    "\n",
    "    hover_style={\n",
    "        'color': 'white', 'dashArray': '0'\n",
    "    })\n",
    "\n",
    "def change_style_color(feature):\n",
    "    if (feature['properties']['name'].upper() in df_top20_set):\n",
    "        return  {'fillColor': 'blue'} \n",
    "    \n",
    "    else:\n",
    "        return {'fillColor': 'gray'}\n",
    "    \n",
    "geo_json_balt_layer.style_callback = change_style_color\n",
    "\n",
    "\n",
    "geo_json_balt_layer.on_click(show_result_h)\n",
    "\n",
    "\n",
    "def on_hover_h(feature, **kwargs):\n",
    "    hovered_nh = feature['properties']['name'].upper()\n",
    "    if (hovered_nh in df_top20_set):\n",
    "        nh_dropdown.value = hovered_nh\n",
    "        \n",
    "    with out:\n",
    "        out.clear_output(wait=True)\n",
    "        print(hovered_nh, flush=True)\n",
    "\n",
    "geo_json_balt_layer.on_hover(on_hover_h)\n"
   ]
  },
  {
   "cell_type": "code",
   "execution_count": 33,
   "id": "6115b6f4",
   "metadata": {
    "scrolled": false
   },
   "outputs": [],
   "source": [
    "# add geo_json layer to map\n",
    "if geo_json_balt_layer not in balt_map.layers:\n",
    "    balt_map.add(geo_json_balt_layer)\n",
    "    \n"
   ]
  },
  {
   "cell_type": "code",
   "execution_count": 34,
   "id": "cc1634b6",
   "metadata": {},
   "outputs": [],
   "source": [
    "out = widgets.Output(layout={'border': '1px solid black'})\n"
   ]
  },
  {
   "cell_type": "code",
   "execution_count": 35,
   "id": "304a9707",
   "metadata": {},
   "outputs": [],
   "source": [
    "def min_report(r):\n",
    "    nh_df = df20[df20['Neighborhood'] == r]\n",
    "    nh_df.reset_index(inplace=True)\n",
    "    nh_ct_df = nh_df.groupby([\"CrimeDateTime\"])[\"X\"].size().reset_index()\n",
    "\n",
    "    train_df = pd.DataFrame()\n",
    "    train_df['ds'] =  nh_ct_df['CrimeDateTime'].dt.tz_localize(None)\n",
    "    train_df['y'] =  nh_ct_df['X']\n",
    "\n",
    "\n",
    "    fbo = Prophet(daily_seasonality=True)\n",
    "    fbo.fit(train_df)\n",
    "    future = fbo.make_future_dataframe(periods=7)\n",
    "    rep = fbo.predict(future)\n",
    "\n",
    "    return rep, fbo\n"
   ]
  },
  {
   "cell_type": "code",
   "execution_count": 36,
   "id": "a2458d4f",
   "metadata": {},
   "outputs": [],
   "source": [
    "nh_dropdown = widgets.Dropdown(\n",
    "    options=df_top20_list,\n",
    "    value=df_top20_list[7],\n",
    "    description='Area',\n",
    "    disabled=False,\n",
    ")\n"
   ]
  },
  {
   "cell_type": "code",
   "execution_count": 37,
   "id": "c6fc84ce",
   "metadata": {},
   "outputs": [],
   "source": [
    "report_button = widgets.Button(\n",
    "    description=' Show Report',\n",
    "    disabled=False,\n",
    "    button_style='', # 'success', 'info', 'warning', 'danger' or ''\n",
    "    tooltip='Run report',\n",
    "    icon='line-chart' # (FontAwesome names without the `fa-` prefix)\n",
    ")\n",
    "\n",
    "def on_button_clicked(b):\n",
    "    rep, fbo = min_report(nh_dropdown.value)\n",
    "    rep['Crime Incidents'] = rep['yhat'].round().astype('int32')\n",
    "    with out:\n",
    "        out.clear_output(wait=False)\n",
    "        print(nh_dropdown.value,  flush=True)\n",
    "        print(rep.loc[rep['ds'] > '2022-05-18', ['ds', 'Crime Incidents']],  flush=True)\n",
    "\n",
    "        print(fbo.plot_components(rep), flush=True)\n",
    "        \n",
    "\n",
    "report_button.on_click(on_button_clicked, False)"
   ]
  },
  {
   "cell_type": "code",
   "execution_count": 38,
   "id": "7165b774",
   "metadata": {},
   "outputs": [
    {
     "data": {
      "application/vnd.jupyter.widget-view+json": {
       "model_id": "bc3465d4df28418ab98096f4dd75b2bc",
       "version_major": 2,
       "version_minor": 0
      },
      "text/plain": [
       "Map(center=[39.2908816, -76.610759], controls=(ZoomControl(options=['position', 'zoom_in_text', 'zoom_in_title…"
      ]
     },
     "metadata": {},
     "output_type": "display_data"
    },
    {
     "data": {
      "application/vnd.jupyter.widget-view+json": {
       "model_id": "4e86a6ed358c4503a991ba95f9714868",
       "version_major": 2,
       "version_minor": 0
      },
      "text/plain": [
       "VBox(children=(Dropdown(description='Area', index=7, options=('BELAIR-EDISON', 'BROADWAY EAST', 'BROOKLYN', 'C…"
      ]
     },
     "metadata": {},
     "output_type": "display_data"
    },
    {
     "data": {
      "application/vnd.jupyter.widget-view+json": {
       "model_id": "2649be1ee15f439e80692a7f75e004b9",
       "version_major": 2,
       "version_minor": 0
      },
      "text/plain": [
       "Output(layout=Layout(border='1px solid black'))"
      ]
     },
     "metadata": {},
     "output_type": "display_data"
    },
    {
     "data": {
      "image/png": "[encoded data removed]",
      "text/plain": [
       "<Figure size 648x864 with 4 Axes>"
      ]
     },
     "metadata": {},
     "output_type": "display_data"
    }
   ],
   "source": [
    "box = widgets.VBox([nh_dropdown, report_button])\n",
    "display(balt_map)\n",
    "display(box)\n",
    "display(out)"
   ]
  },
  {
   "cell_type": "code",
   "execution_count": 39,
   "id": "898fc00b",
   "metadata": {},
   "outputs": [],
   "source": [
    "# display(out)"
   ]
  }
 ],
 "metadata": {
  "kernelspec": {
   "display_name": "Python 3 (ipykernel)",
   "language": "python",
   "name": "python3"
  },
  "language_info": {
   "codemirror_mode": {
    "name": "ipython",
    "version": 3
   },
   "file_extension": ".py",
   "mimetype": "text/x-python",
   "name": "python",
   "nbconvert_exporter": "python",
   "pygments_lexer": "ipython3",
   "version": "3.9.7"
  }
 },
 "nbformat": 4,
 "nbformat_minor": 5
}
